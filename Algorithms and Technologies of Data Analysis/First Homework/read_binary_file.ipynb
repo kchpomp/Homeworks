{
 "cells": [
  {
   "cell_type": "code",
   "execution_count": 22,
   "id": "13c526d9",
   "metadata": {},
   "outputs": [],
   "source": [
    "import numpy as np\n",
    "import time\n",
    "import os\n",
    "import mmap\n",
    "import multiprocessing\n",
    "import threading\n",
    "import tqdm\n",
    "import concurrent.futures as pool"
   ]
  },
  {
   "cell_type": "code",
   "execution_count": 23,
   "id": "7e33705d",
   "metadata": {},
   "outputs": [
    {
     "name": "stdout",
     "output_type": "stream",
     "text": [
      "--- Find max element takes 5.436976909637451 seconds ---\n",
      "--- Find min element takes 6.527103662490845 seconds ---\n",
      "Min value is:  5\n",
      "Max value is:  4294967284\n",
      "Sum of all elements is:  1610629939571621294\n",
      "--- Whole process takes 331.3538224697113 seconds ---\n"
     ]
    }
   ],
   "source": [
    "#Variant without threading\n",
    "start_time = time.time()\n",
    "file=open(\"test_huge_file\",\"r+b\")\n",
    "number_array = np.fromfile(file, dtype=np.dtype('uint32').newbyteorder('B'))\n",
    "max_value = np.ndarray.max(number_array)\n",
    "print(\"Find max element takes %s seconds\" % (time.time() - start_time))\n",
    "min_value = np.ndarray.min(number_array)\n",
    "print(\"Find min element takes %s seconds \" % (time.time() - start_time))\n",
    "array_sum = 0\n",
    "for i in range(len(number_array)):\n",
    "    array_sum += int(number_array[i])\n",
    "print(\"Min value is: \", min_value)\n",
    "print(\"Max value is: \", max_value)\n",
    "print(\"Sum of all elements is: \", array_sum)\n",
    "file.close()\n",
    "whole_time = time.time() - start_time\n",
    "print(\"Whole process takes %s seconds\" % (whole_time))"
   ]
  },
  {
   "cell_type": "code",
   "execution_count": 24,
   "id": "d7b20685",
   "metadata": {},
   "outputs": [
    {
     "name": "stdout",
     "output_type": "stream",
     "text": [
      "<class 'numpy.ndarray'>\n",
      "--- Find min element takes 6.106703042984009 seconds ---\n",
      "Min value is:  5\n",
      "Find max element takes 6.114630460739136 seconds\n",
      "Max value is:  4294967284\n",
      "Find sum of all elements takes 269.7790801525116 seconds\n",
      "Sum array elements is:  1610629939571621294\n"
     ]
    }
   ],
   "source": [
    "#Variant that uses threading\n",
    "start_time = time.time()\n",
    "time_find_max = 0\n",
    "time_find_min= 0\n",
    "whole_time_threading = 0\n",
    "\n",
    "\n",
    "def sum_of_all_elements(arr):\n",
    "    global whole_time_threading\n",
    "    arr_sum = 0\n",
    "    n = len(arr)\n",
    "    for i in range(n):\n",
    "        arr_sum += arr[i]\n",
    "    whole_time_threading = time.time() - start_time\n",
    "    print(\"Find sum of all elements takes %s seconds\" % (whole_time_threading))\n",
    "    print(\"Sum array elements is: \", arr_sum)\n",
    "    return arr_sum, whole_time_threading\n",
    "\n",
    "def array_min(arr):\n",
    "    global time_find_min\n",
    "    arr_min = np.ndarray.min(arr)\n",
    "    time_find_min = time.time() - start_time\n",
    "    print(\"--- Find min element takes %s seconds ---\" % (time_find_min))\n",
    "    print(\"Min value is: \", arr_min)\n",
    "    return arr_min,time_find_min \n",
    "\n",
    "def array_max(arr):\n",
    "    global time_find_max\n",
    "    arr_max = np.ndarray.max(arr)\n",
    "    time_find_max = time.time() - start_time\n",
    "    print(\"Find max element takes %s seconds\" % (time_find_max))\n",
    "    print(\"Max value is: \", arr_max)\n",
    "    return  arr_max, time_find_max\n",
    "\n",
    "\n",
    "mm = np.memmap(open_file, dtype = \"int32\", mode='r+', offset = 0)\n",
    "# print(type(mm))\n",
    "\n",
    "nparray = np.frombuffer(mm, dtype=np.dtype('uint32').newbyteorder('B'))\n",
    "# print(type(nparray))\n",
    "t2 = threading.Thread(target=array_min, args=(nparray,))\n",
    "t3 = threading.Thread(target=array_max, args=(nparray,))\n",
    "# t1 = threading.Thread(target=sum_of_all_elements, args=(nparray,))\n",
    "executor = pool.ThreadPoolExecutor()\n",
    "executor.submit(sum_of_all_elements, nparray)\n",
    "# # t1.is_alive()\n",
    "t2.start()\n",
    "# # t2.is_alive()\n",
    "t3.start()\n",
    "# # t3.is_alive()\n",
    "# t1.start()\n",
    "# t1.close()\n",
    "# t2.close()\n",
    "# t3.close()\n",
    "\n",
    "# p1 = multiprocessing.Process(target=sum_of_all_elements, args=(nparray,))\n",
    "# p2 = multiprocessing.Process(target=array_min, args=(nparray,))\n",
    "# p2 = multiprocessing.Process(target=array_max, args=(nparray,))\n",
    "\n",
    "# p1.start()\n",
    "# p1.join()\n",
    "\n",
    "# p2.start()\n",
    "# p2.join()\n",
    "\n",
    "# p3.start()\n",
    "# p3.join()\n",
    "\n",
    "\n",
    "# p1.close()\n",
    "# p2.close() \n",
    "# p3.close()\n",
    "\n",
    "# first_sum = first_sum_of_elements(arr)\n",
    "# second_sum = second_sum_of_elements(arr)\n",
    "\n",
    "# total_sum = first_sum + second_sum\n",
    "\n",
    "# print(\"Sum of all elements is: \", total_sum)\n",
    "# open_file.close()\n",
    "    \n",
    "\n",
    "# print(\"--- %s seconds ---\" % (time.time() - start_time))"
   ]
  },
  {
   "cell_type": "code",
   "execution_count": 27,
   "id": "282bd7d5",
   "metadata": {},
   "outputs": [
    {
     "name": "stdout",
     "output_type": "stream",
     "text": [
      "Performance difference is 61.57474231719971 seconds\n",
      "Threading shows an increase in 22.824135319310244 percent\n"
     ]
    }
   ],
   "source": [
    "print(\"Performance difference is %s seconds\" % (whole_time - whole_time_threading))\n",
    "print(\"Threading shows an increase in %s percent\" %((whole_time/whole_time_threading - 1) * 100))"
   ]
  },
  {
   "cell_type": "code",
   "execution_count": null,
   "id": "0e349962",
   "metadata": {},
   "outputs": [],
   "source": []
  }
 ],
 "metadata": {
  "kernelspec": {
   "display_name": "Python 3",
   "language": "python",
   "name": "python3"
  },
  "language_info": {
   "codemirror_mode": {
    "name": "ipython",
    "version": 3
   },
   "file_extension": ".py",
   "mimetype": "text/x-python",
   "name": "python",
   "nbconvert_exporter": "python",
   "pygments_lexer": "ipython3",
   "version": "3.8.8"
  }
 },
 "nbformat": 4,
 "nbformat_minor": 5
}
