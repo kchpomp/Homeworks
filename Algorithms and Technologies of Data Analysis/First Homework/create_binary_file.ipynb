{
 "cells": [
  {
   "cell_type": "code",
   "execution_count": null,
   "id": "095d4c46",
   "metadata": {},
   "outputs": [],
   "source": [
    "#this task allows to generate binary file min 3 GB consisting of random big endian numbers "
   ]
  },
  {
   "cell_type": "code",
   "execution_count": 4,
   "id": "fd4d0084",
   "metadata": {},
   "outputs": [
    {
     "name": "stderr",
     "output_type": "stream",
     "text": [
      "100%|████████████████████████████████████████████████████████████████| 750000000/750000000 [33:35<00:00, 372091.87it/s]\n"
     ]
    }
   ],
   "source": [
    "import random\n",
    "import tqdm\n",
    "import os\n",
    "\n",
    "filename = \"test_huge_file\"\n",
    "gb_factor = 3 #This variable shows how many GigaBytes will be in the file\n",
    "\n",
    "bit_size = 4 #This variable allows to specify whether we use int32 or int64\n",
    "cycles_num = int(gb_factor*(1000**3)/bit_size) #How many cycles will be made\n",
    "max_number = 2**(bit_size*8) #The highest number in the row\n",
    "\n",
    "    \n",
    "with open(filename, 'wb') as f:\n",
    "    for i in tqdm.tqdm(range(cycles_num)):\n",
    "        f.write(random.randint(0, max_number).to_bytes(bit_size, byteorder='big', signed=False))"
   ]
  },
  {
   "cell_type": "code",
   "execution_count": null,
   "id": "1ba9428f",
   "metadata": {},
   "outputs": [],
   "source": []
  }
 ],
 "metadata": {
  "kernelspec": {
   "display_name": "Python 3",
   "language": "python",
   "name": "python3"
  },
  "language_info": {
   "codemirror_mode": {
    "name": "ipython",
    "version": 3
   },
   "file_extension": ".py",
   "mimetype": "text/x-python",
   "name": "python",
   "nbconvert_exporter": "python",
   "pygments_lexer": "ipython3",
   "version": "3.8.8"
  }
 },
 "nbformat": 4,
 "nbformat_minor": 5
}
