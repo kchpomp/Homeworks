{
 "cells": [
  {
   "cell_type": "code",
   "execution_count": 1,
   "outputs": [],
   "source": [
    "from dask.distributed import Client\n",
    "import dask.dataframe as dd\n",
    "import numpy as np"
   ],
   "metadata": {
    "collapsed": false,
    "pycharm": {
     "name": "#%%\n"
    }
   }
  },
  {
   "cell_type": "code",
   "execution_count": 2,
   "outputs": [
    {
     "data": {
      "text/plain": "<Client: 'tcp://127.0.0.1:58853' processes=1 threads=20, memory=9.31 GiB>",
      "text/html": "<div>\n    <div style=\"width: 24px; height: 24px; background-color: #e1e1e1; border: 3px solid #9D9D9D; border-radius: 5px; position: absolute;\"> </div>\n    <div style=\"margin-left: 48px;\">\n        <h3 style=\"margin-bottom: 0px;\">Client</h3>\n        <p style=\"color: #9D9D9D; margin-bottom: 0px;\">Client-ee497f02-e3f3-11ec-b3b4-c821582e11f8</p>\n        <table style=\"width: 100%; text-align: left;\">\n\n        <tr>\n        \n            <td style=\"text-align: left;\"><strong>Connection method:</strong> Cluster object</td>\n            <td style=\"text-align: left;\"><strong>Cluster type:</strong> distributed.LocalCluster</td>\n        \n        </tr>\n\n        \n            <tr>\n                <td style=\"text-align: left;\">\n                    <strong>Dashboard: </strong> <a href=\"http://127.0.0.1:8787/status\" target=\"_blank\">http://127.0.0.1:8787/status</a>\n                </td>\n                <td style=\"text-align: left;\"></td>\n            </tr>\n        \n\n        </table>\n\n        \n            <details>\n            <summary style=\"margin-bottom: 20px;\"><h3 style=\"display: inline;\">Cluster Info</h3></summary>\n            <div class=\"jp-RenderedHTMLCommon jp-RenderedHTML jp-mod-trusted jp-OutputArea-output\">\n    <div style=\"width: 24px; height: 24px; background-color: #e1e1e1; border: 3px solid #9D9D9D; border-radius: 5px; position: absolute;\">\n    </div>\n    <div style=\"margin-left: 48px;\">\n        <h3 style=\"margin-bottom: 0px; margin-top: 0px;\">LocalCluster</h3>\n        <p style=\"color: #9D9D9D; margin-bottom: 0px;\">a51371fb</p>\n        <table style=\"width: 100%; text-align: left;\">\n            <tr>\n                <td style=\"text-align: left;\">\n                    <strong>Dashboard:</strong> <a href=\"http://127.0.0.1:8787/status\" target=\"_blank\">http://127.0.0.1:8787/status</a>\n                </td>\n                <td style=\"text-align: left;\">\n                    <strong>Workers:</strong> 1\n                </td>\n            </tr>\n            <tr>\n                <td style=\"text-align: left;\">\n                    <strong>Total threads:</strong> 20\n                </td>\n                <td style=\"text-align: left;\">\n                    <strong>Total memory:</strong> 9.31 GiB\n                </td>\n            </tr>\n            \n            <tr>\n    <td style=\"text-align: left;\"><strong>Status:</strong> running</td>\n    <td style=\"text-align: left;\"><strong>Using processes:</strong> True</td>\n</tr>\n\n            \n        </table>\n\n        <details>\n            <summary style=\"margin-bottom: 20px;\">\n                <h3 style=\"display: inline;\">Scheduler Info</h3>\n            </summary>\n\n            <div style=\"\">\n    <div>\n        <div style=\"width: 24px; height: 24px; background-color: #FFF7E5; border: 3px solid #FF6132; border-radius: 5px; position: absolute;\"> </div>\n        <div style=\"margin-left: 48px;\">\n            <h3 style=\"margin-bottom: 0px;\">Scheduler</h3>\n            <p style=\"color: #9D9D9D; margin-bottom: 0px;\">Scheduler-0cf67c05-7eb3-4b65-a601-bc9cdc2ef936</p>\n            <table style=\"width: 100%; text-align: left;\">\n                <tr>\n                    <td style=\"text-align: left;\">\n                        <strong>Comm:</strong> tcp://127.0.0.1:58853\n                    </td>\n                    <td style=\"text-align: left;\">\n                        <strong>Workers:</strong> 1\n                    </td>\n                </tr>\n                <tr>\n                    <td style=\"text-align: left;\">\n                        <strong>Dashboard:</strong> <a href=\"http://127.0.0.1:8787/status\" target=\"_blank\">http://127.0.0.1:8787/status</a>\n                    </td>\n                    <td style=\"text-align: left;\">\n                        <strong>Total threads:</strong> 20\n                    </td>\n                </tr>\n                <tr>\n                    <td style=\"text-align: left;\">\n                        <strong>Started:</strong> Just now\n                    </td>\n                    <td style=\"text-align: left;\">\n                        <strong>Total memory:</strong> 9.31 GiB\n                    </td>\n                </tr>\n            </table>\n        </div>\n    </div>\n\n    <details style=\"margin-left: 48px;\">\n        <summary style=\"margin-bottom: 20px;\">\n            <h3 style=\"display: inline;\">Workers</h3>\n        </summary>\n\n        \n        <div style=\"margin-bottom: 20px;\">\n            <div style=\"width: 24px; height: 24px; background-color: #DBF5FF; border: 3px solid #4CC9FF; border-radius: 5px; position: absolute;\"> </div>\n            <div style=\"margin-left: 48px;\">\n            <details>\n                <summary>\n                    <h4 style=\"margin-bottom: 0px; display: inline;\">Worker: 0</h4>\n                </summary>\n                <table style=\"width: 100%; text-align: left;\">\n                    <tr>\n                        <td style=\"text-align: left;\">\n                            <strong>Comm: </strong> tcp://127.0.0.1:58862\n                        </td>\n                        <td style=\"text-align: left;\">\n                            <strong>Total threads: </strong> 20\n                        </td>\n                    </tr>\n                    <tr>\n                        <td style=\"text-align: left;\">\n                            <strong>Dashboard: </strong> <a href=\"http://127.0.0.1:58863/status\" target=\"_blank\">http://127.0.0.1:58863/status</a>\n                        </td>\n                        <td style=\"text-align: left;\">\n                            <strong>Memory: </strong> 9.31 GiB\n                        </td>\n                    </tr>\n                    <tr>\n                        <td style=\"text-align: left;\">\n                            <strong>Nanny: </strong> tcp://127.0.0.1:58856\n                        </td>\n                        <td style=\"text-align: left;\"></td>\n                    </tr>\n                    <tr>\n                        <td colspan=\"2\" style=\"text-align: left;\">\n                            <strong>Local directory: </strong> D:\\diploma2023\\Tiff image processing\\dask-worker-space\\worker-l6j96060\n                        </td>\n                    </tr>\n\n                    \n\n                    \n\n                </table>\n            </details>\n            </div>\n        </div>\n        \n\n    </details>\n</div>\n\n        </details>\n    </div>\n</div>\n            </details>\n        \n\n    </div>\n</div>"
     },
     "execution_count": 2,
     "metadata": {},
     "output_type": "execute_result"
    }
   ],
   "source": [
    "client = Client(n_workers=1, threads_per_worker=20, processes=True, memory_limit='10GB')\n",
    "client"
   ],
   "metadata": {
    "collapsed": false,
    "pycharm": {
     "name": "#%%\n"
    }
   }
  },
  {
   "cell_type": "code",
   "execution_count": 3,
   "outputs": [],
   "source": [
    "df = dd.read_csv(\"C:/Users/user/Downloads/alms-bd-2022-e5a2b33689f1/alms-bd-2022-e5a2b33689f1/tasks/cik.csv\")"
   ],
   "metadata": {
    "collapsed": false,
    "pycharm": {
     "name": "#%%\n"
    }
   }
  },
  {
   "cell_type": "code",
   "execution_count": 4,
   "outputs": [],
   "source": [
    "def compute_presense(dst):\n",
    "    return ((dst.normal_ballots + dst.bad_ballots) / dst.total_ballots) * 100"
   ],
   "metadata": {
    "collapsed": false,
    "pycharm": {
     "name": "#%%\n"
    }
   }
  },
  {
   "cell_type": "code",
   "execution_count": 5,
   "outputs": [],
   "source": [
    "pres_df = df.apply(compute_presense, axis=1, meta=(None, 'float64'))"
   ],
   "metadata": {
    "collapsed": false,
    "pycharm": {
     "name": "#%%\n"
    }
   }
  },
  {
   "cell_type": "code",
   "execution_count": 6,
   "outputs": [],
   "source": [
    "df['presense'] = pres_df"
   ],
   "metadata": {
    "collapsed": false,
    "pycharm": {
     "name": "#%%\n"
    }
   }
  },
  {
   "cell_type": "code",
   "execution_count": 7,
   "outputs": [
    {
     "data": {
      "text/plain": "<dask.dataframe.groupby.DataFrameGroupBy at 0x24719bb9bc8>"
     },
     "execution_count": 7,
     "metadata": {},
     "output_type": "execute_result"
    }
   ],
   "source": [
    "df.groupby(['regin'])"
   ],
   "metadata": {
    "collapsed": false,
    "pycharm": {
     "name": "#%%\n"
    }
   }
  },
  {
   "cell_type": "code",
   "execution_count": 8,
   "outputs": [],
   "source": [
    "df_sort = df.sort_values('presense', ascending=False)"
   ],
   "metadata": {
    "collapsed": false,
    "pycharm": {
     "name": "#%%\n"
    }
   }
  },
  {
   "cell_type": "code",
   "execution_count": 9,
   "outputs": [
    {
     "data": {
      "text/plain": "                            regin  tik        uik  registered_voters  \\\n92828  Территория за пределами РФ  NaN  УИК №8342               7746   \n\n       total_ballots  early_voters  tik_voters  home_voters  empty_ballots  \\\n92828          13470          4006        3739            1           5719   \n\n       home_ballots  ...  extra_ballots  baburin  grudinin  zhirinovsky  \\\n92828          4007  ...              0       22       235           80   \n\n       putin  sobchak  suraykin  titov  yavlinsky   presense  \n92828   7221       82        34     22         29  57.468448  \n\n[1 rows x 24 columns]",
      "text/html": "<div>\n<style scoped>\n    .dataframe tbody tr th:only-of-type {\n        vertical-align: middle;\n    }\n\n    .dataframe tbody tr th {\n        vertical-align: top;\n    }\n\n    .dataframe thead th {\n        text-align: right;\n    }\n</style>\n<table border=\"1\" class=\"dataframe\">\n  <thead>\n    <tr style=\"text-align: right;\">\n      <th></th>\n      <th>regin</th>\n      <th>tik</th>\n      <th>uik</th>\n      <th>registered_voters</th>\n      <th>total_ballots</th>\n      <th>early_voters</th>\n      <th>tik_voters</th>\n      <th>home_voters</th>\n      <th>empty_ballots</th>\n      <th>home_ballots</th>\n      <th>...</th>\n      <th>extra_ballots</th>\n      <th>baburin</th>\n      <th>grudinin</th>\n      <th>zhirinovsky</th>\n      <th>putin</th>\n      <th>sobchak</th>\n      <th>suraykin</th>\n      <th>titov</th>\n      <th>yavlinsky</th>\n      <th>presense</th>\n    </tr>\n  </thead>\n  <tbody>\n    <tr>\n      <th>92828</th>\n      <td>Территория за пределами РФ</td>\n      <td>NaN</td>\n      <td>УИК №8342</td>\n      <td>7746</td>\n      <td>13470</td>\n      <td>4006</td>\n      <td>3739</td>\n      <td>1</td>\n      <td>5719</td>\n      <td>4007</td>\n      <td>...</td>\n      <td>0</td>\n      <td>22</td>\n      <td>235</td>\n      <td>80</td>\n      <td>7221</td>\n      <td>82</td>\n      <td>34</td>\n      <td>22</td>\n      <td>29</td>\n      <td>57.468448</td>\n    </tr>\n  </tbody>\n</table>\n<p>1 rows × 24 columns</p>\n</div>"
     },
     "execution_count": 9,
     "metadata": {},
     "output_type": "execute_result"
    }
   ],
   "source": [
    "# Take the candidate and select the UIK where he received the most ballots\n",
    "df_uik_max_votes = df_sort[df_sort['registered_voters'] > 300]\n",
    "df_uik_max_votes_putin = df_uik_max_votes['putin'].max()\n",
    "value = df_uik_max_votes_putin.compute()\n",
    "df_uik_max_votes[df_uik_max_votes['putin'] == value].compute()"
   ],
   "metadata": {
    "collapsed": false,
    "pycharm": {
     "name": "#%%\n"
    }
   }
  },
  {
   "cell_type": "code",
   "execution_count": 10,
   "outputs": [
    {
     "data": {
      "text/plain": "                          min    max       mean  difference\nregin                                                      \nРеспублика Саха (Якутия)  0.0  100.0  74.407687       100.0",
      "text/html": "<div>\n<style scoped>\n    .dataframe tbody tr th:only-of-type {\n        vertical-align: middle;\n    }\n\n    .dataframe tbody tr th {\n        vertical-align: top;\n    }\n\n    .dataframe thead th {\n        text-align: right;\n    }\n</style>\n<table border=\"1\" class=\"dataframe\">\n  <thead>\n    <tr style=\"text-align: right;\">\n      <th></th>\n      <th>min</th>\n      <th>max</th>\n      <th>mean</th>\n      <th>difference</th>\n    </tr>\n    <tr>\n      <th>regin</th>\n      <th></th>\n      <th></th>\n      <th></th>\n      <th></th>\n    </tr>\n  </thead>\n  <tbody>\n    <tr>\n      <th>Республика Саха (Якутия)</th>\n      <td>0.0</td>\n      <td>100.0</td>\n      <td>74.407687</td>\n      <td>100.0</td>\n    </tr>\n  </tbody>\n</table>\n</div>"
     },
     "execution_count": 10,
     "metadata": {},
     "output_type": "execute_result"
    }
   ],
   "source": [
    "# Count the maximum difference in the region\n",
    "df_max_by_reg = df_sort.groupby(\"regin\").presense.agg(['min', 'max', 'mean'])\n",
    "diff = df_max_by_reg['max'] - df_max_by_reg['min']\n",
    "df_max_by_reg['difference'] = diff\n",
    "max_diff = df_max_by_reg['difference'].max().compute()\n",
    "df_max_by_reg[df_max_by_reg['difference'] == max_diff].compute()"
   ],
   "metadata": {
    "collapsed": false,
    "pycharm": {
     "name": "#%%\n"
    }
   }
  },
  {
   "cell_type": "code",
   "execution_count": 11,
   "outputs": [],
   "source": [
    "df_var = df_sort.drop(columns=['registered_voters', 'total_ballots', 'early_voters', 'tik_voters', 'home_voters', 'empty_ballots',\n",
    "                                        'home_ballots', 'tik_ballots', 'bad_ballots', 'normal_ballots', 'missing_ballots', 'baburin', 'grudinin',\n",
    "                                        'zhirinovsky', 'putin', 'sobchak', 'suraykin', 'titov', 'yavlinsky', 'extra_ballots'])\n",
    "df_var_rename = df_var.rename(columns={\"presense\":\"presense_dispersion\"})\n",
    "df_std = df_var_rename.groupby('regin').std()\n",
    "df_var = df_var_rename.groupby('regin').var()"
   ],
   "metadata": {
    "collapsed": false,
    "pycharm": {
     "name": "#%%\n"
    }
   }
  },
  {
   "cell_type": "code",
   "execution_count": 12,
   "outputs": [
    {
     "data": {
      "text/plain": "                                 presense_dispersion\nregin                                               \nАлтайский край                             10.511163\nАмурская область                           12.529601\nАрхангельская область                      14.053107\nАстраханская область                       12.669397\nБелгородская область                       11.328166\n...                                              ...\nЧувашская Республика - Чувашия             11.252229\nЧукотский автономный округ                  9.564709\nЯмало-Ненецкий автономный округ             9.532380\nгород Москва                                8.497469\nгород Санкт-Петербург                      11.827818\n\n[80 rows x 1 columns]",
      "text/html": "<div>\n<style scoped>\n    .dataframe tbody tr th:only-of-type {\n        vertical-align: middle;\n    }\n\n    .dataframe tbody tr th {\n        vertical-align: top;\n    }\n\n    .dataframe thead th {\n        text-align: right;\n    }\n</style>\n<table border=\"1\" class=\"dataframe\">\n  <thead>\n    <tr style=\"text-align: right;\">\n      <th></th>\n      <th>presense_dispersion</th>\n    </tr>\n    <tr>\n      <th>regin</th>\n      <th></th>\n    </tr>\n  </thead>\n  <tbody>\n    <tr>\n      <th>Алтайский край</th>\n      <td>10.511163</td>\n    </tr>\n    <tr>\n      <th>Амурская область</th>\n      <td>12.529601</td>\n    </tr>\n    <tr>\n      <th>Архангельская область</th>\n      <td>14.053107</td>\n    </tr>\n    <tr>\n      <th>Астраханская область</th>\n      <td>12.669397</td>\n    </tr>\n    <tr>\n      <th>Белгородская область</th>\n      <td>11.328166</td>\n    </tr>\n    <tr>\n      <th>...</th>\n      <td>...</td>\n    </tr>\n    <tr>\n      <th>Чувашская Республика - Чувашия</th>\n      <td>11.252229</td>\n    </tr>\n    <tr>\n      <th>Чукотский автономный округ</th>\n      <td>9.564709</td>\n    </tr>\n    <tr>\n      <th>Ямало-Ненецкий автономный округ</th>\n      <td>9.532380</td>\n    </tr>\n    <tr>\n      <th>город Москва</th>\n      <td>8.497469</td>\n    </tr>\n    <tr>\n      <th>город Санкт-Петербург</th>\n      <td>11.827818</td>\n    </tr>\n  </tbody>\n</table>\n<p>80 rows × 1 columns</p>\n</div>"
     },
     "execution_count": 12,
     "metadata": {},
     "output_type": "execute_result"
    }
   ],
   "source": [
    "df_std.compute()"
   ],
   "metadata": {
    "collapsed": false,
    "pycharm": {
     "name": "#%%\n"
    }
   }
  },
  {
   "cell_type": "code",
   "execution_count": 13,
   "outputs": [
    {
     "data": {
      "text/plain": "                                 presense_dispersion\nregin                                               \nАлтайский край                            110.484558\nАмурская область                          156.990889\nАрхангельская область                     197.489826\nАстраханская область                      160.513612\nБелгородская область                      128.327351\n...                                              ...\nЧувашская Республика - Чувашия            126.612666\nЧукотский автономный округ                 91.483664\nЯмало-Ненецкий автономный округ            90.866273\nгород Москва                               72.206972\nгород Санкт-Петербург                     139.897269\n\n[80 rows x 1 columns]",
      "text/html": "<div>\n<style scoped>\n    .dataframe tbody tr th:only-of-type {\n        vertical-align: middle;\n    }\n\n    .dataframe tbody tr th {\n        vertical-align: top;\n    }\n\n    .dataframe thead th {\n        text-align: right;\n    }\n</style>\n<table border=\"1\" class=\"dataframe\">\n  <thead>\n    <tr style=\"text-align: right;\">\n      <th></th>\n      <th>presense_dispersion</th>\n    </tr>\n    <tr>\n      <th>regin</th>\n      <th></th>\n    </tr>\n  </thead>\n  <tbody>\n    <tr>\n      <th>Алтайский край</th>\n      <td>110.484558</td>\n    </tr>\n    <tr>\n      <th>Амурская область</th>\n      <td>156.990889</td>\n    </tr>\n    <tr>\n      <th>Архангельская область</th>\n      <td>197.489826</td>\n    </tr>\n    <tr>\n      <th>Астраханская область</th>\n      <td>160.513612</td>\n    </tr>\n    <tr>\n      <th>Белгородская область</th>\n      <td>128.327351</td>\n    </tr>\n    <tr>\n      <th>...</th>\n      <td>...</td>\n    </tr>\n    <tr>\n      <th>Чувашская Республика - Чувашия</th>\n      <td>126.612666</td>\n    </tr>\n    <tr>\n      <th>Чукотский автономный округ</th>\n      <td>91.483664</td>\n    </tr>\n    <tr>\n      <th>Ямало-Ненецкий автономный округ</th>\n      <td>90.866273</td>\n    </tr>\n    <tr>\n      <th>город Москва</th>\n      <td>72.206972</td>\n    </tr>\n    <tr>\n      <th>город Санкт-Петербург</th>\n      <td>139.897269</td>\n    </tr>\n  </tbody>\n</table>\n<p>80 rows × 1 columns</p>\n</div>"
     },
     "execution_count": 13,
     "metadata": {},
     "output_type": "execute_result"
    }
   ],
   "source": [
    "df_var.compute()"
   ],
   "metadata": {
    "collapsed": false,
    "pycharm": {
     "name": "#%%\n"
    }
   }
  },
  {
   "cell_type": "code",
   "execution_count": 14,
   "outputs": [
    {
     "name": "stdout",
     "output_type": "stream",
     "text": [
      "<class 'dask.array.core.Array'>\n",
      "<class 'dask.array.core.Array'>\n"
     ]
    }
   ],
   "source": [
    "tot_ball = df_sort.total_ballots.sum().compute()\n",
    "df_candidates = df_sort.drop(columns=['regin', 'tik', 'uik', 'registered_voters', 'total_ballots', 'early_voters', 'tik_voters', 'home_voters', 'empty_ballots',\n",
    "                                        'home_ballots', 'tik_ballots', 'bad_ballots', 'normal_ballots', 'missing_ballots', 'extra_ballots', 'presense'])\n",
    "candidates_array = df_candidates.to_dask_array()\n",
    "non_zero_elems = np.count_nonzero(candidates_array, axis=0)\n",
    "sum = np.sum(candidates_array, axis=0)\n",
    "divided = np.round(np.divide(sum, tot_ball) * 100).astype(int)\n",
    "print(type(divided))\n",
    "print(type(non_zero_elems))"
   ],
   "metadata": {
    "collapsed": false,
    "pycharm": {
     "name": "#%%\n"
    }
   }
  },
  {
   "cell_type": "code",
   "execution_count": 15,
   "outputs": [
    {
     "data": {
      "text/plain": "  candidate_names  percentage, %  amount_of_tik\n0         baburin              0          74279\n1        grudinin              9          92047\n2     zhirinovsky              4          90759\n3           putin             54          92894\n4         sobchak              1          78478\n5        suraykin              0          75527\n6           titov              1          68858\n7       yavlinsky              1          66150",
      "text/html": "<div>\n<style scoped>\n    .dataframe tbody tr th:only-of-type {\n        vertical-align: middle;\n    }\n\n    .dataframe tbody tr th {\n        vertical-align: top;\n    }\n\n    .dataframe thead th {\n        text-align: right;\n    }\n</style>\n<table border=\"1\" class=\"dataframe\">\n  <thead>\n    <tr style=\"text-align: right;\">\n      <th></th>\n      <th>candidate_names</th>\n      <th>percentage, %</th>\n      <th>amount_of_tik</th>\n    </tr>\n  </thead>\n  <tbody>\n    <tr>\n      <th>0</th>\n      <td>baburin</td>\n      <td>0</td>\n      <td>74279</td>\n    </tr>\n    <tr>\n      <th>1</th>\n      <td>grudinin</td>\n      <td>9</td>\n      <td>92047</td>\n    </tr>\n    <tr>\n      <th>2</th>\n      <td>zhirinovsky</td>\n      <td>4</td>\n      <td>90759</td>\n    </tr>\n    <tr>\n      <th>3</th>\n      <td>putin</td>\n      <td>54</td>\n      <td>92894</td>\n    </tr>\n    <tr>\n      <th>4</th>\n      <td>sobchak</td>\n      <td>1</td>\n      <td>78478</td>\n    </tr>\n    <tr>\n      <th>5</th>\n      <td>suraykin</td>\n      <td>0</td>\n      <td>75527</td>\n    </tr>\n    <tr>\n      <th>6</th>\n      <td>titov</td>\n      <td>1</td>\n      <td>68858</td>\n    </tr>\n    <tr>\n      <th>7</th>\n      <td>yavlinsky</td>\n      <td>1</td>\n      <td>66150</td>\n    </tr>\n  </tbody>\n</table>\n</div>"
     },
     "execution_count": 15,
     "metadata": {},
     "output_type": "execute_result"
    }
   ],
   "source": [
    "import dask.array as da\n",
    "names = np.array(['baburin', 'grudinin','zhirinovsky', 'putin', 'sobchak', 'suraykin', 'titov', 'yavlinsky'])\n",
    "names_arr = da.from_array(names).astype(str)\n",
    "divided_arr = divided.astype(str)\n",
    "non_zero_elems_arr = non_zero_elems.astype(str)\n",
    "# print(type(names_arr))\n",
    "# names_arr.compute()\n",
    "cand = dd.concat([dd.from_dask_array(c) for c in [names_arr, divided, non_zero_elems]], axis = 1)\n",
    "# cand = dd.concat([names_arr_df, divided_df, non_zero_elems_df], axis=1)\n",
    "cand.compute()\n",
    "cand.columns = [\"candidate_names\", \"percentage, %\", \"amount_of_tik\"]\n",
    "cand.reset_index()\n",
    "cand.set_index(\"candidate_names\")\n",
    "cand.compute()"
   ],
   "metadata": {
    "collapsed": false,
    "pycharm": {
     "name": "#%%\n"
    }
   }
  },
  {
   "cell_type": "code",
   "execution_count": 15,
   "outputs": [],
   "source": [],
   "metadata": {
    "collapsed": false,
    "pycharm": {
     "name": "#%%\n"
    }
   }
  }
 ],
 "metadata": {
  "kernelspec": {
   "display_name": "Python 3",
   "language": "python",
   "name": "python3"
  },
  "language_info": {
   "codemirror_mode": {
    "name": "ipython",
    "version": 2
   },
   "file_extension": ".py",
   "mimetype": "text/x-python",
   "name": "python",
   "nbconvert_exporter": "python",
   "pygments_lexer": "ipython2",
   "version": "2.7.6"
  }
 },
 "nbformat": 4,
 "nbformat_minor": 0
}